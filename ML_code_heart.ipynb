{
 "cells": [
  {
   "cell_type": "code",
   "execution_count": 1,
   "id": "4e0f8395",
   "metadata": {},
   "outputs": [
    {
     "data": {
      "text/plain": [
       "'C:\\\\Users\\\\asus\\\\Untitled Folder 3'"
      ]
     },
     "execution_count": 1,
     "metadata": {},
     "output_type": "execute_result"
    }
   ],
   "source": [
    "import pandas as pd\n",
    "import numpy as np\n",
    "from sklearn.ensemble import RandomForestClassifier\n",
    "\n",
    "\n",
    "\n",
    "\n",
    "df = pd.read_csv('C:/Users/asus/Desktop/my patents/pupil vs wmc project/diabetes_012_health_indicators_BRFSS2015.csv')\n",
    "df.head()\n",
    "df.fillna(value=0, inplace=True)\n",
    "X = df.iloc[:, [4,0,5,11]]\n",
    "y = df.iloc[:, 7]\n",
    "\n",
    "# splitting data into training and testing data with 30 % of data as testing data respectively\n",
    "from sklearn.model_selection import train_test_split\n",
    "X_train, X_test, y_train, y_test = train_test_split(X, y, test_size = 0.3, random_state = 0)\n",
    "\n",
    "# importing the random forest classifier model and training it on the dataset\n",
    "clf = RandomForestClassifier(n_estimators= 10, criterion=\"entropy\") \n",
    "clf.fit(X_train, y_train)\n",
    "\n",
    "# predicting on the test dataset\n",
    "y_pred = clf.predict(X_test)\n",
    "\n",
    "# finding out the accuracy\n",
    "from sklearn.metrics import accuracy_score\n",
    "score = accuracy_score(y_test, y_pred)\n",
    "# pickling the model\n",
    "import joblib\n",
    "\n",
    "joblib.dump(clf, \"clf.pkl\")\n",
    "# In[ ]:\n",
    "import os\n",
    "cwd = os. getcwd()\n",
    "cwd\n"
   ]
  },
  {
   "cell_type": "code",
   "execution_count": null,
   "id": "a953f408",
   "metadata": {},
   "outputs": [],
   "source": []
  }
 ],
 "metadata": {
  "kernelspec": {
   "display_name": "Python 3 (ipykernel)",
   "language": "python",
   "name": "python3"
  },
  "language_info": {
   "codemirror_mode": {
    "name": "ipython",
    "version": 3
   },
   "file_extension": ".py",
   "mimetype": "text/x-python",
   "name": "python",
   "nbconvert_exporter": "python",
   "pygments_lexer": "ipython3",
   "version": "3.9.7"
  }
 },
 "nbformat": 4,
 "nbformat_minor": 5
}
