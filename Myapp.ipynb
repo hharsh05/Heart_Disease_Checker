{
 "cells": [
  {
   "cell_type": "code",
   "execution_count": null,
   "id": "4275b962",
   "metadata": {},
   "outputs": [],
   "source": [
    "import streamlit as st\n",
    "import pandas as pd\n",
    "import joblib\n",
    "null=None\n",
    "# Title\n",
    "st.header(\"Heart Disease Checker app\")\n",
    "st.write(\"This app is intended to check wheather you are suffering from any heart disease or not\")\n",
    "st.write(\"score 0 means you are not suffering from any heart disease and score of 1 or 2 means you are suffering \")\n",
    "st.text(\"Created by Mr.Harshit Harsh\")\n",
    "\n",
    "\n",
    "# Input bar 1\n",
    "Diabetes_012 = st.number_input(\"Enter 1 if you suffer from diabetes else enter 0\")\n",
    "\n",
    "\n",
    "# Input bar 2\n",
    "BMI = st.number_input(\"Enter BMI, BMI = Weight(Kg)/(Height*Height(metre squared))\")\n",
    "HvyAlcoholConsump = st.number_input(\"Enter 1 if you consume alcohol frequently else enter 0\")\n",
    "Smoker = st.number_input(\"Enter 1 if you are smoker  else enter 0\")\n",
    "if st.button(\"Submit\"):\n",
    "    \n",
    "    \n",
    "    if ((Diabetes_012 ==0.00 or Diabetes_012 == 1.00) and (HvyAlcoholConsump ==0.00 or HvyAlcoholConsump ==1.00) and (Smoker==0.00 or Smoker ==1.00)):\n",
    "        \n",
    "   \n",
    "        clf = joblib.load(\"clf.pkl\")\n",
    "\n",
    "    # Store inputs into dataframe\n",
    "        x = pd.DataFrame([[Diabetes_012,BMI,Smoker,HvyAlcoholConsump]],\n",
    "                     columns = [\"Diabetes_012\",\"BMI\",\"Smoker\",\"HvyAlcoholConsump\"])\n",
    "    # Get prediction\n",
    "        prediction = clf.predict(x)[0]\n",
    "\n",
    "    # Output prediction\n",
    "        st.text(f\"This instance is a {prediction}\")\n",
    "        if (prediction == 1 or 2):\n",
    "            st.text(\"Consult a Doctor\")\n",
    "    else:\n",
    "        st.text(f\"Please follow instructions\")\n",
    "   \n",
    "           \n",
    " \n",
    "        \n",
    "    \n"
   ]
  }
 ],
 "metadata": {
  "kernelspec": {
   "display_name": "Python 3 (ipykernel)",
   "language": "python",
   "name": "python3"
  },
  "language_info": {
   "codemirror_mode": {
    "name": "ipython",
    "version": 3
   },
   "file_extension": ".py",
   "mimetype": "text/x-python",
   "name": "python",
   "nbconvert_exporter": "python",
   "pygments_lexer": "ipython3",
   "version": "3.9.7"
  }
 },
 "nbformat": 4,
 "nbformat_minor": 5
}
